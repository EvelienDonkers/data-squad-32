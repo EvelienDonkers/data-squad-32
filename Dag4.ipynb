{
 "cells": [
  {
   "cell_type": "code",
   "execution_count": 2,
   "metadata": {},
   "outputs": [
    {
     "ename": "SyntaxError",
     "evalue": "invalid syntax (<ipython-input-2-a0ca2560507d>, line 5)",
     "output_type": "error",
     "traceback": [
      "\u001b[1;36m  File \u001b[1;32m\"<ipython-input-2-a0ca2560507d>\"\u001b[1;36m, line \u001b[1;32m5\u001b[0m\n\u001b[1;33m    statement:\u001b[0m\n\u001b[1;37m              ^\u001b[0m\n\u001b[1;31mSyntaxError\u001b[0m\u001b[1;31m:\u001b[0m invalid syntax\n"
     ]
    }
   ],
   "source": [
    "### functions\n",
    "def meaningfull_name(input_agrument):\n",
    "    statement_1\n",
    "    statement_2\n",
    "    statement:\n",
    "    return output value\n",
    "\n",
    "## voor bijvoorbeeld de som van één lijst heb je maar één input_argument nodig\n",
    "### meaningfull_name dus wat doet deze functie?"
   ]
  },
  {
   "cell_type": "code",
   "execution_count": 12,
   "metadata": {},
   "outputs": [
    {
     "name": "stdout",
     "output_type": "stream",
     "text": [
      "Inside function: length is  7\n",
      "John was a man of many talents\n",
      "Outside: length is  7\n"
     ]
    }
   ],
   "source": [
    "def list2string(lst):\n",
    "    string = ' '.join(lst)\n",
    "    return string\n",
    "\n",
    "to_string = ['John', 'was', 'a', 'man', 'of', 'many', 'talents']\n",
    "list2string(to_string)\n",
    "\n",
    "### nu willen we ook de lengte als input_agrument toevoegen\n",
    "\n",
    "def list2string(lst):\n",
    "    len_lst = len(lst)\n",
    "    print(\"Inside function: length is \", len_lst)\n",
    "    string = ' '.join(lst)\n",
    "    return string, len_lst\n",
    "\n",
    "to_string = ['John', 'was', 'a', 'man', 'of', 'many', 'talents']\n",
    "strng, l = list2string(to_string)\n",
    "print(strng)\n",
    "print(\"Outside: length is \", l)\n"
   ]
  },
  {
   "cell_type": "code",
   "execution_count": 17,
   "metadata": {},
   "outputs": [
    {
     "ename": "SyntaxError",
     "evalue": "invalid syntax (<ipython-input-17-868869fcf4cd>, line 11)",
     "output_type": "error",
     "traceback": [
      "\u001b[1;36m  File \u001b[1;32m\"<ipython-input-17-868869fcf4cd>\"\u001b[1;36m, line \u001b[1;32m11\u001b[0m\n\u001b[1;33m    print(strng)\u001b[0m\n\u001b[1;37m        ^\u001b[0m\n\u001b[1;31mSyntaxError\u001b[0m\u001b[1;31m:\u001b[0m invalid syntax\n"
     ]
    }
   ],
   "source": [
    "### input variables\n",
    "\n",
    "def list2string(lst, number):\n",
    "    len_lst = len(lst)\n",
    "    print(\"Inside function: length is \", len_lst)\n",
    "    string = ' '.join(lst)\n",
    "    return string, len_lst * number\n",
    "\n",
    "to_string = ['John', 'was', 'a', 'man', 'of', 'many', 'talents']\n",
    "strng, l = list2string(to_string, 2 #number )\n",
    "print(strng)\n",
    "print(\"Outside: length is \", l, number)\n",
    "                       \n",
    "                       \n",
    "                       \n",
    "def list2string(lst, t):\n",
    "    len_lst = len(lst)\n",
    "    print(\"Inside function: length is \", len_lst)\n",
    "    string = ' '.join(lst)\n",
    "    return string, t * len_lst\n",
    "\n",
    "to_string = ['John', 'was', 'a', 'man', 'of', 'many', 'talents']\n",
    "strng, l = list2string(to_string, ['a'] )\n",
    "print(l)\n",
    "print(\"Outside: length is \", l, number)"
   ]
  },
  {
   "cell_type": "code",
   "execution_count": 19,
   "metadata": {},
   "outputs": [
    {
     "name": "stdout",
     "output_type": "stream",
     "text": [
      "Inside function: length is  7\n",
      "['a', 'a', 'a', 'a', 'a', 'a', 'a']\n",
      "Outside: length is  ['a', 'a', 'a', 'a', 'a', 'a', 'a']\n"
     ]
    }
   ],
   "source": [
    "def list2string(lst, t):\n",
    "    len_lst = len(lst)\n",
    "    print(\"Inside function: length is \", len_lst)\n",
    "    string = ' '.join(lst)\n",
    "    return string, t * len_lst\n",
    "\n",
    "to_string = ['John', 'was', 'a', 'man', 'of', 'many', 'talents']\n",
    "strng, l = list2string(to_string, ['a'] )\n",
    "print(l)\n",
    "print(\"Outside: length is \", l)"
   ]
  },
  {
   "cell_type": "code",
   "execution_count": null,
   "metadata": {},
   "outputs": [],
   "source": [
    "### Tertiary functions\n",
    "[2 if i%2 ==0 else 1 for i in lst]\n",
    "\n",
    "### [|2 if i%2 ==0 else 1| for i in lst] stukje tussen || is tertiary function\n",
    "\n",
    "[lst2strng(lst) for lst in lst_lst]"
   ]
  },
  {
   "cell_type": "code",
   "execution_count": 21,
   "metadata": {},
   "outputs": [
    {
     "name": "stdout",
     "output_type": "stream",
     "text": [
      "[0, 1, 2, 3, 4, 5, 6, 7, 8, 9]\n",
      "3\n",
      "10\n",
      "17\n",
      "24\n",
      "31\n",
      "38\n",
      "45\n"
     ]
    }
   ],
   "source": [
    "### Iterables\n",
    "\n",
    "## maak lijst waar alle nummers minder dan 1 zijn \n",
    "print(list(range(10)))\n",
    "\n",
    "\n",
    "from itertools import count\n",
    "\n",
    "# Keeps on counting: count(start, addition), je moet break doen anders blijft ie oneindig door gaan\n",
    "for n in count(3,7):\n",
    "    if n > 45: break\n",
    "    print(n)\n",
    "    \n",
    "### permutatie == alle mogelijkheden die er zijn van een combinatie.     \n",
    "from itertools import permutations \n",
    "print(list(permutations('ABC')))"
   ]
  },
  {
   "cell_type": "code",
   "execution_count": null,
   "metadata": {},
   "outputs": [],
   "source": [
    "### compressen, compress geeft alleen de 'True' values/ de values die 1 zijn, en dan de daadwerkelijke waarde hiervan. \n",
    "\n",
    "from itertools import compress\n",
    "data = range(10)\n",
    "even_selector = [1, 0] * 10\n",
    "odd_selector = [0, 1] * 10\n",
    "\n",
    "even_numbers = list(compress(data, even_selector))\n",
    "odd_numbers = list(compress(data, odd_selector))\n",
    "\n",
    "print(odd_selector)\n",
    "print(even_selector)\n",
    "print(list(data))\n",
    "print(even_numbers)\n",
    "print(odd_numbers)"
   ]
  },
  {
   "cell_type": "code",
   "execution_count": null,
   "metadata": {},
   "outputs": [],
   "source": [
    "###lambda, soort van mini functie ATLIJD één lijn \n",
    "l_var = lambda inpt_var : expression  #expression is wat je wil bijvoorbeeld '**'\n",
    "\n",
    "\n",
    "## oftewel deze\n",
    "square = lambda x: x * x\n",
    "print(\"From lambda function: \", square(5))\n",
    "\n",
    "### is hetzelfde als deze\n",
    "def square(x):\n",
    "    return x * x\n",
    "  \n",
    "print(\"\\nFrom function: \", square(5))\n",
    "\n",
    "\n",
    "## type eruit krijgen\n",
    "square = lambda x: type(x * x)\n",
    "print(\"From lambda function: \", square(5))\n",
    "\n",
    "### join everything in a list\n",
    "square = lambda x: \"\".join(x)\n",
    "print(\"From lambda function: \", square('a','b'))\n",
    "\n",
    "### 1e positie van de list\n",
    "square = lambda x: x[0]\n",
    "print(\"From lambda function: \", square('a','b'))\n"
   ]
  },
  {
   "cell_type": "code",
   "execution_count": 25,
   "metadata": {},
   "outputs": [
    {
     "name": "stdout",
     "output_type": "stream",
     "text": [
      "[1, 4, 9, 16, 9, 9, 9, 9, 9]\n"
     ]
    }
   ],
   "source": [
    "def funct1(x):\n",
    "    return 9\n",
    "square = lambda x: x * x if x < 5 else funct1(x)\n",
    "squared = [square(x) for x in range(1, 10)]\n",
    "print(squared)"
   ]
  },
  {
   "cell_type": "code",
   "execution_count": 27,
   "metadata": {},
   "outputs": [
    {
     "name": "stdout",
     "output_type": "stream",
     "text": [
      "['but it can be any string', \"let's do  one element\"]\n",
      "['but it can be any string', \"let's do  one element\"]\n"
     ]
    }
   ],
   "source": [
    "school_dash = ['but-it-can be any string', \"let's do -one element\"]\n",
    "#school_dash = ['but-it-can be any string']\n",
    "\n",
    "## uitgebreide versie\n",
    "l_func = lambda x: x.replace('-', ' ')\n",
    "school_space = [l_func(x) for x in school_dash]\n",
    "print(school_space)\n",
    "\n",
    "### van deze\n",
    "school_space = [(lambda x: x.replace('-', ' '))(x) for x in school_dash]\n",
    "print(school_space)"
   ]
  },
  {
   "cell_type": "code",
   "execution_count": 28,
   "metadata": {},
   "outputs": [],
   "source": [
    "### wanneer stop je een lambda in een functie??\n",
    "### als je het lokale variable wil veranderen naar je lambda"
   ]
  },
  {
   "cell_type": "code",
   "execution_count": 29,
   "metadata": {},
   "outputs": [],
   "source": [
    "## zip: twee lijsten en een waarde uit elke lijst\n",
    "## enumeration: waarde én positie uit lijst"
   ]
  },
  {
   "cell_type": "code",
   "execution_count": null,
   "metadata": {},
   "outputs": [],
   "source": []
  }
 ],
 "metadata": {
  "kernelspec": {
   "display_name": "Python 3",
   "language": "python",
   "name": "python3"
  },
  "language_info": {
   "codemirror_mode": {
    "name": "ipython",
    "version": 3
   },
   "file_extension": ".py",
   "mimetype": "text/x-python",
   "name": "python",
   "nbconvert_exporter": "python",
   "pygments_lexer": "ipython3",
   "version": "3.7.3"
  }
 },
 "nbformat": 4,
 "nbformat_minor": 2
}
